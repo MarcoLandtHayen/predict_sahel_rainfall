{
 "cells": [
  {
   "cell_type": "markdown",
   "id": "8f7dbe65-6dc0-41a5-aa96-d9a0653e54d6",
   "metadata": {},
   "source": [
    "### Predict Sahel rainfall with MLP models - Compute SHAP values\n",
    "\n",
    "In this project we work with **C**limate **I**ndex **C**ollection based on **Mo**del **D**ata (CICMoD) data set (https://github.com/MarcoLandtHayen/climate_index_collection). \n",
    "\n",
    "Here, we will try to **predict future** Sahel rainfall (lead time 1 month) from current information (t=0) of all **CESM** input features including PREC_SAHEL and **months as additional input features** with **MLP** models:\n",
    "\n",
    "- Prepare inputs and targets.\n",
    "- Set up model.\n",
    "- Evaluate model performance.\n",
    "\n",
    "**Note:** For an intuitive understanding of SHAP, we refer to the following [video lecture](https://vimeo.com/745352008/3168320cef)."
   ]
  },
  {
   "cell_type": "code",
   "execution_count": 1,
   "id": "cca00440-1fbe-473b-be11-d7cac0887060",
   "metadata": {},
   "outputs": [],
   "source": [
    "import pandas as pd\n",
    "import numpy as np\n",
    "import seaborn as sns\n",
    "from matplotlib import pyplot as plt\n",
    "from json import dump, load\n",
    "from pathlib import Path\n",
    "import shap\n",
    "\n",
    "### Import additional functions:\n",
    "from predict_sahel_rainfall.plot import bar_color\n",
    "from predict_sahel_rainfall.preprocessing import prepare_inputs_and_target\n",
    "from predict_sahel_rainfall.models import set_MLP"
   ]
  },
  {
   "cell_type": "markdown",
   "id": "dde7b72d",
   "metadata": {},
   "source": [
    "### Prepare inputs and targets: Univariate\n",
    "\n",
    "Load collection of climate indices directly from GitHub release.\n",
    "Use the complete preprocessing pipeline function."
   ]
  },
  {
   "cell_type": "code",
   "execution_count": 2,
   "id": "4e280679",
   "metadata": {},
   "outputs": [],
   "source": [
    "## Set common parameters (except ESN and lead time) for data preprocessing:\n",
    "\n",
    "# Set url to csv file containing CICMoD indices from desired release:\n",
    "data_url = (\n",
    "    \"https://github.com/MarcoLandtHayen/climate_index_collection/\"\n",
    "    \"releases/download/v2023.03.29.1/climate_indices.csv\"\n",
    ")\n",
    "\n",
    "# Select target index:\n",
    "target_index = 'PREC_SAHEL'\n",
    "\n",
    "# Select all input features:\n",
    "input_features = [\n",
    "    'AMO', 'ENSO_12', 'ENSO_3', 'ENSO_34', 'ENSO_4', 'NAO_PC', 'NAO_ST', \n",
    "    'NP', 'PDO_PC', 'PREC_SAHEL', 'SAM_PC', 'SAM_ZM', 'SAT_N_ALL', 'SAT_N_LAND',\n",
    "    'SAT_N_OCEAN', 'SAT_S_ALL', 'SAT_S_LAND', 'SAT_S_OCEAN', 'SOI',\n",
    "    'SSS_ENA', 'SSS_NA', 'SSS_SA', 'SSS_WNA', 'SST_ESIO', 'SST_HMDR',\n",
    "    'SST_MED', 'SST_TNA', 'SST_TSA', 'SST_WSIO'\n",
    "]\n",
    "\n",
    "# # Select subset of input features:\n",
    "# input_features = [\n",
    "#     'PREC_SAHEL',\n",
    "# ]\n",
    "\n",
    "# Choose, whether to add months as one-hot encoded features:\n",
    "add_months = True\n",
    "\n",
    "# Choose, whether to normalize target index:\n",
    "norm_target = True\n",
    "\n",
    "# Specify input length:\n",
    "input_length = 1\n",
    "\n",
    "# Specify amount of combined training and validation data relative to test data:\n",
    "train_test_split = 0.9\n",
    "\n",
    "# Specify relative amount of combined training and validation used for training:\n",
    "train_val_split = 0.8\n",
    "\n",
    "## Optionally choose to scale or normalize input features according to statistics from training data:\n",
    "# 'no': Keep raw input features.\n",
    "# 'scale_01': Scale input features with min/max scaling to [0,1].\n",
    "# 'scale_11': Scale input features with min/max scaling to [-1,1].\n",
    "# 'norm': Normalize input features, hence subtract mean and divide by std dev.\n",
    "scale_norm = 'norm'"
   ]
  },
  {
   "cell_type": "code",
   "execution_count": 3,
   "id": "a39753e9",
   "metadata": {},
   "outputs": [],
   "source": [
    "# Set parameters for CNN/fc model:\n",
    "fc_units = [20,10]\n",
    "fc_activation = 'sigmoid'\n",
    "output_activation = 'linear'\n",
    "fc_weight_init = 'glorot_uniform'\n",
    "fc_bias_init = 'zeros'\n",
    "fc_weight_reg = None\n",
    "fc_bias_reg = None\n",
    "learning_rate = 0.001\n",
    "loss_function = 'mse'"
   ]
  },
  {
   "cell_type": "code",
   "execution_count": 4,
   "id": "ec18f2e1",
   "metadata": {},
   "outputs": [
    {
     "name": "stdout",
     "output_type": "stream",
     "text": [
      "Number of input features: 41\n"
     ]
    }
   ],
   "source": [
    "# Set choice of ESMs:\n",
    "ESMs = ['CESM']#, 'FOCI']\n",
    "\n",
    "# Set choice of lead times:\n",
    "lead_times = [1]#,3,6]\n",
    "\n",
    "# Set number of runs per setting:\n",
    "n_runs = 1\n",
    "\n",
    "# Set number of training epochs:\n",
    "n_epochs = 50\n",
    "\n",
    "# Set batch size:\n",
    "batch_size = 20\n",
    "\n",
    "# Get number of input features, depending on whether or not months are addes as additional features:\n",
    "if add_months:\n",
    "    n_features = len(input_features) + 12\n",
    "else:\n",
    "    n_features = len(input_features)\n",
    "    \n",
    "# Check number of input channels:\n",
    "print('Number of input features:',n_features)"
   ]
  },
  {
   "cell_type": "code",
   "execution_count": 18,
   "id": "dd9b00f7",
   "metadata": {
    "scrolled": false
   },
   "outputs": [
    {
     "name": "stdout",
     "output_type": "stream",
     "text": [
      "ESM: 1 of 1\n",
      "  lead time: 1 of 1\n",
      "    run: 1 of 1\n"
     ]
    }
   ],
   "source": [
    "## Initializs storages for loss curves and correlation, dimension (#ESMs, #lead times, #runs, #epochs+1).\n",
    "## Need #epochs+1, since we want to store results for untrained model plus after each epoch.\n",
    "train_loss_all = np.zeros((len(ESMs),len(lead_times),n_runs,n_epochs+1))\n",
    "val_loss_all = np.zeros((len(ESMs),len(lead_times),n_runs,n_epochs+1))\n",
    "test_loss_all = np.zeros((len(ESMs),len(lead_times),n_runs,n_epochs+1))\n",
    "train_correl_all = np.zeros((len(ESMs),len(lead_times),n_runs,n_epochs+1))\n",
    "val_correl_all = np.zeros((len(ESMs),len(lead_times),n_runs,n_epochs+1))\n",
    "test_correl_all = np.zeros((len(ESMs),len(lead_times),n_runs,n_epochs+1))\n",
    "\n",
    "## Loop over ESMs:\n",
    "for m in range(len(ESMs)):\n",
    "    \n",
    "    # Get current ESM:\n",
    "    ESM = ESMs[m]\n",
    "    \n",
    "    # Print status:\n",
    "    print('ESM:',m+1,'of',len(ESMs))\n",
    "\n",
    "    ## Loop over lead times:\n",
    "    for l in range(len(lead_times)):\n",
    "        \n",
    "        # Get current lead time:\n",
    "        lead_time = lead_times[l]\n",
    "        \n",
    "        # Print status:\n",
    "        print('  lead time:',l+1,'of',len(lead_times))\n",
    "\n",
    "        # Prepare inputs and target for current ESM and lead time:\n",
    "        (\n",
    "            train_input,\n",
    "            train_target,\n",
    "            val_input,\n",
    "            val_target,\n",
    "            test_input,\n",
    "            test_target,\n",
    "            train_mean,\n",
    "            train_std,\n",
    "            train_min,\n",
    "            train_max,\n",
    "        ) = prepare_inputs_and_target(    \n",
    "            data_url=data_url,\n",
    "            ESM=ESM,\n",
    "            target_index=target_index,\n",
    "            input_features=input_features,\n",
    "            add_months=add_months,\n",
    "            norm_target=norm_target,\n",
    "            lead_time=lead_time,\n",
    "            input_length=input_length,\n",
    "            train_test_split=train_test_split,\n",
    "            train_val_split=train_val_split,\n",
    "            scale_norm=scale_norm,\n",
    "        )\n",
    "        \n",
    "        # Loop over desired number of training runs:\n",
    "        for r in range(n_runs):\n",
    "            \n",
    "            # Print status:\n",
    "            print('    run:',r+1,'of',n_runs)\n",
    "            \n",
    "            # Set up MLP model:\n",
    "            model = set_MLP(\n",
    "                input_length=input_length, \n",
    "                n_features=n_features, \n",
    "                fc_units=fc_units, \n",
    "                fc_activation=fc_activation,\n",
    "                output_activation=output_activation,\n",
    "                fc_weight_init=fc_weight_init,\n",
    "                fc_bias_init=fc_bias_init,\n",
    "                fc_weight_reg=fc_weight_reg,\n",
    "                fc_bias_reg=fc_bias_reg,\n",
    "                learning_rate=learning_rate, \n",
    "                loss_function=loss_function\n",
    "            )\n",
    "            \n",
    "            ### Train model: Epoch-by-epoch\n",
    "            \n",
    "            ## Store results for untrained model:\n",
    "            \n",
    "            # Get model predictions on training, validation and test data.\n",
    "            # Omit time dimension, have only single time step:\n",
    "            train_pred = model.predict(train_input[:,0,:])\n",
    "            val_pred = model.predict(val_input[:,0,:])\n",
    "            test_pred = model.predict(test_input[:,0,:])\n",
    "\n",
    "            # Compute mse of model predictions vs. true targets:\n",
    "            train_loss = np.mean((train_target-train_pred)**2)\n",
    "            val_loss = np.mean((val_target-val_pred)**2)\n",
    "            test_loss = np.mean((test_target-test_pred)**2)\n",
    "\n",
    "            # Compute correlation coefficient of model predictions vs. true targets:\n",
    "            train_correl = np.corrcoef(np.stack([train_target[:,0],train_pred[:,0]]))[0,1]\n",
    "            val_correl = np.corrcoef(np.stack([val_target[:,0],val_pred[:,0]]))[0,1]\n",
    "            test_correl = np.corrcoef(np.stack([test_target[:,0],test_pred[:,0]]))[0,1]\n",
    "            \n",
    "            # Store results:\n",
    "            train_loss_all[m,l,r,0] = train_loss\n",
    "            val_loss_all[m,l,r,0] = val_loss\n",
    "            test_loss_all[m,l,r,0] = test_loss\n",
    "            train_correl_all[m,l,r,0] = train_correl\n",
    "            val_correl_all[m,l,r,0] = val_correl\n",
    "            test_correl_all[m,l,r,0] = test_correl          \n",
    "            \n",
    "            # Loop over epochs:\n",
    "            for e in range(n_epochs):\n",
    "                \n",
    "                # Train model for single epoch.\n",
    "                # Omit time dimension, have only single time step:\n",
    "                history = model.fit(train_input[:,0,:], train_target, epochs=1, batch_size=batch_size, shuffle=True, verbose=0)\n",
    "\n",
    "                ## Store results after current epoch:\n",
    "            \n",
    "                # Get model predictions on training, validation and test data:\n",
    "                train_pred = model.predict(train_input[:,0,:])\n",
    "                val_pred = model.predict(val_input[:,0,:])\n",
    "                test_pred = model.predict(test_input[:,0,:])\n",
    "\n",
    "                # Compute mse of model predictions vs. true targets:\n",
    "                train_loss = np.mean((train_target-train_pred)**2)\n",
    "                val_loss = np.mean((val_target-val_pred)**2)\n",
    "                test_loss = np.mean((test_target-test_pred)**2)\n",
    "\n",
    "                # Compute correlation coefficient of model predictions vs. true targets:\n",
    "                train_correl = np.corrcoef(np.stack([train_target[:,0],train_pred[:,0]]))[0,1]\n",
    "                val_correl = np.corrcoef(np.stack([val_target[:,0],val_pred[:,0]]))[0,1]\n",
    "                test_correl = np.corrcoef(np.stack([test_target[:,0],test_pred[:,0]]))[0,1]\n",
    "\n",
    "                # Store results:\n",
    "                train_loss_all[m,l,r,e+1] = train_loss\n",
    "                val_loss_all[m,l,r,e+1] = val_loss\n",
    "                test_loss_all[m,l,r,e+1] = test_loss\n",
    "                train_correl_all[m,l,r,e+1] = train_correl\n",
    "                val_correl_all[m,l,r,e+1] = val_correl\n",
    "                test_correl_all[m,l,r,e+1] = test_correl          "
   ]
  },
  {
   "cell_type": "markdown",
   "id": "d55aeaa2",
   "metadata": {},
   "source": [
    "### Postprocessing\n",
    "\n",
    "We now have loss ('mse') and correlation for complete training, validation and test data after each epoch (starting with untrained model as epoch 0).\n",
    "\n",
    "Next, we aim to find the **minimum loss and correlation on test data** for the **epoch with minimum validation loss**.\n",
    "This search is done separately for each ESM, lead time and model run.\n",
    "\n",
    "In a second step, we compute the **mean loss and correlation on test data over all runs**, separately for each ESM and lead time."
   ]
  },
  {
   "cell_type": "code",
   "execution_count": 20,
   "id": "ad6d94a4",
   "metadata": {},
   "outputs": [],
   "source": [
    "## Initializs storages for test loss (min) and correlation (max), where val loss takes its minimum,\n",
    "## dimension (#ESMs, #lead times, #runs).\n",
    "test_loss_min = np.zeros((len(ESMs),len(lead_times),n_runs))\n",
    "test_correl_max = np.zeros((len(ESMs),len(lead_times),n_runs))\n",
    "\n",
    "## Initializs storages for mean test loss and correlation, averaged over all training runs,\n",
    "## dimension (#ESMs, #lead times).\n",
    "test_loss_min_mean = np.zeros((len(ESMs),len(lead_times)))\n",
    "test_correl_max_mean = np.zeros((len(ESMs),len(lead_times)))\n",
    "\n",
    "## Loop over ESMs:\n",
    "for m in range(len(ESMs)):\n",
    "    \n",
    "    ## Loop over lead times:\n",
    "    for l in range(len(lead_times)):\n",
    "        \n",
    "        # Loop over desired number of training runs:\n",
    "        for r in range(n_runs):\n",
    "            \n",
    "            # Get epoch with minimum validation loss for current ESM, lead time and training run:\n",
    "            e_min = np.argmin(val_loss_all[m,l,r])\n",
    "            \n",
    "            # Store corresponding test loss and correlation:\n",
    "            test_loss_min[m,l,r] = test_loss_all[m,l,r,e_min]\n",
    "            test_correl_max[m,l,r] = test_correl_all[m,l,r,e_min]\n",
    "            \n",
    "        # Get mean test loss and correlation over all training runs, for current ESM and lead time:\n",
    "        test_loss_min_mean[m,l] = np.mean(test_loss_min[m,l])\n",
    "        test_correl_max_mean[m,l] = np.mean(test_correl_max[m,l])"
   ]
  },
  {
   "cell_type": "markdown",
   "id": "d009a838",
   "metadata": {},
   "source": [
    "### Results: MLP (with months as additional input features)"
   ]
  },
  {
   "cell_type": "code",
   "execution_count": 21,
   "id": "5e880631",
   "metadata": {},
   "outputs": [
    {
     "data": {
      "text/plain": [
       "array([[0.92289027]])"
      ]
     },
     "execution_count": 21,
     "metadata": {},
     "output_type": "execute_result"
    }
   ],
   "source": [
    "test_loss_min_mean"
   ]
  },
  {
   "cell_type": "code",
   "execution_count": 22,
   "id": "d20cc09d",
   "metadata": {},
   "outputs": [
    {
     "data": {
      "text/plain": [
       "array([[0.40531463]])"
      ]
     },
     "execution_count": 22,
     "metadata": {},
     "output_type": "execute_result"
    }
   ],
   "source": [
    "test_correl_max_mean"
   ]
  },
  {
   "cell_type": "markdown",
   "id": "981c49e9",
   "metadata": {},
   "source": [
    "### Compute SHAP values"
   ]
  },
  {
   "cell_type": "code",
   "execution_count": 26,
   "id": "16ec4c8a",
   "metadata": {},
   "outputs": [],
   "source": [
    "# Create extended input features, including months:\n",
    "input_features_extended = input_features.copy()\n",
    "input_features_extended.append('Jan')\n",
    "input_features_extended.append('Feb')\n",
    "input_features_extended.append('Mar')\n",
    "input_features_extended.append('Apr')\n",
    "input_features_extended.append('May')\n",
    "input_features_extended.append('Jun')\n",
    "input_features_extended.append('Jul')\n",
    "input_features_extended.append('Aug')\n",
    "input_features_extended.append('Sep')\n",
    "input_features_extended.append('Oct')\n",
    "input_features_extended.append('Nov')\n",
    "input_features_extended.append('Dec')"
   ]
  },
  {
   "cell_type": "code",
   "execution_count": 36,
   "id": "2da31500",
   "metadata": {},
   "outputs": [],
   "source": [
    "## Convert inputs and targets into pandas DataFrames.\n",
    "## Omit time dimension in inputs:\n",
    "\n",
    "# Inputs:\n",
    "train_input_pd = pd.DataFrame(train_input[:,0,:], columns = input_features_extended)\n",
    "val_input_pd = pd.DataFrame(val_input[:,0,:], columns = input_features_extended)\n",
    "test_input_pd = pd.DataFrame(test_input[:,0,:], columns = input_features_extended)\n",
    "\n",
    "# Targets:\n",
    "train_target_pd = pd.DataFrame(train_target, columns = [target_index])\n",
    "val_target_pd = pd.DataFrame(val_target, columns = [target_index])\n",
    "test_target_pd = pd.DataFrame(test_target, columns = [target_index])"
   ]
  },
  {
   "cell_type": "code",
   "execution_count": 51,
   "id": "fb5ff3d2",
   "metadata": {},
   "outputs": [],
   "source": [
    "# Run SHAP framework on trained MLP and use first 1000 training samples as background data.\n",
    "# Omit time dimension in inputs:\n",
    "explainer = shap.DeepExplainer(model=model, data=train_input[:1000,0,:])"
   ]
  },
  {
   "cell_type": "code",
   "execution_count": 52,
   "id": "169ac9f8",
   "metadata": {},
   "outputs": [
    {
     "name": "stdout",
     "output_type": "stream",
     "text": [
      "WARNING:tensorflow:AutoGraph could not transform <function TFDeep.phi_symbolic.<locals>.grad_graph at 0x1c8da2ee0> and will run it as-is.\n",
      "Please report this to the TensorFlow team. When filing the bug, set the verbosity to 10 (on Linux, `export AUTOGRAPH_VERBOSITY=10`) and attach the full output.\n",
      "Cause: invalid syntax (tmpz1rczzuo.py, line 27)\n",
      "To silence this warning, decorate the function with @tf.autograph.experimental.do_not_convert\n",
      "WARNING: AutoGraph could not transform <function TFDeep.phi_symbolic.<locals>.grad_graph at 0x1c8da2ee0> and will run it as-is.\n",
      "Please report this to the TensorFlow team. When filing the bug, set the verbosity to 10 (on Linux, `export AUTOGRAPH_VERBOSITY=10`) and attach the full output.\n",
      "Cause: invalid syntax (tmpz1rczzuo.py, line 27)\n",
      "To silence this warning, decorate the function with @tf.autograph.experimental.do_not_convert\n"
     ]
    }
   ],
   "source": [
    "# Get shap values on test data.\n",
    "# Omit time dimension in inputs:\n",
    "shap_values = explainer.shap_values(test_input[:,0,:])[0]"
   ]
  },
  {
   "cell_type": "code",
   "execution_count": 54,
   "id": "dacddff7",
   "metadata": {},
   "outputs": [
    {
     "data": {
      "image/png": "[encoded data removed]",
      "text/plain": [
       "<Figure size 576x684 with 1 Axes>"
      ]
     },
     "metadata": {
      "needs_background": "light"
     },
     "output_type": "display_data"
    }
   ],
   "source": [
    "# Summary plot:\n",
    "shap.summary_plot(\n",
    "    shap_values, \n",
    "    test_input_pd, \n",
    "    plot_type='bar')\n",
    "     "
   ]
  },
  {
   "cell_type": "markdown",
   "id": "42d72e81",
   "metadata": {},
   "source": [
    "### Discussion: MLP models - multivariate (withmonths as additional input features) - SHAP values\n",
    "\n",
    "Here, we tried to **predict future** Sahel rainfall (lead time 1 month) from current information (t=0) of all **CESM** input features including PREC_SAHEL and **months as additional input features** with an **MLP** model.\n",
    "\n",
    "Then, we use SHAPley to compute the average impact of all input features on the model output and find sea surface temperature in the Tropical North Atlantic and the Hurricane Main Developement Region plus ENSO to be most important."
   ]
  },
  {
   "cell_type": "code",
   "execution_count": null,
   "id": "9694dfee",
   "metadata": {},
   "outputs": [],
   "source": []
  },
  {
   "cell_type": "code",
   "execution_count": null,
   "id": "bc4ba616",
   "metadata": {},
   "outputs": [],
   "source": []
  },
  {
   "cell_type": "code",
   "execution_count": null,
   "id": "f6eb6985",
   "metadata": {},
   "outputs": [],
   "source": []
  },
  {
   "cell_type": "code",
   "execution_count": null,
   "id": "bc7f5cde",
   "metadata": {},
   "outputs": [],
   "source": []
  }
 ],
 "metadata": {
  "kernelspec": {
   "display_name": "Python 3 (ipykernel)",
   "language": "python",
   "name": "python3"
  },
  "language_info": {
   "codemirror_mode": {
    "name": "ipython",
    "version": 3
   },
   "file_extension": ".py",
   "mimetype": "text/x-python",
   "name": "python",
   "nbconvert_exporter": "python",
   "pygments_lexer": "ipython3",
   "version": "3.9.9"
  }
 },
 "nbformat": 4,
 "nbformat_minor": 5
}
